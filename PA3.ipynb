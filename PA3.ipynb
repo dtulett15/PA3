{
 "cells": [
  {
   "cell_type": "markdown",
   "metadata": {},
   "source": [
    "# Programming Assignment 3\n",
    "---\n",
    "**Author:** Dylan Tulett\n",
    "**Version:** 1.0  \n",
    "**Semester:** Fall 2020  \n",
    "\n",
    "This *notebook* contains my solution to **Programming Assignment 3**\n",
    "\n",
    "- Problem 1: Computes the perimeter and area of a triangle with side lengths given by the user.\n",
    "- Problem 2: Asks user to guess a randomly generated number and prints if it is high, low or equal to the random number\n",
    "- Problem 3: Print the mean temperature over the past x number of days using the function meanTemp"
   ]
  },
  {
   "cell_type": "code",
   "execution_count": null,
   "metadata": {},
   "outputs": [],
   "source": [
    "#Part 1.\n",
    "\n",
    "#define triangle sides\n",
    "sideA = int(input(\"Enter the length of side A: \"))\n",
    "sideB = int(input(\"Enter the length of side B: \"))\n",
    "sideC = int(input(\"Enter the length of side C: \"))\n",
    "\n",
    "def calcPerimeter(a=1,b=1,c=1):\n",
    "    \"\"\"This function calculates the perimeter of a triangle with sides a,b,c\"\"\"\n",
    "    perimeter = a + b + c\n",
    "    return perimeter\n",
    "\n",
    "def calcArea(a=1,b=1,c=1):\n",
    "    \"\"\"This function calculates the area of a triangle sides a,b,c using heron's formula\n",
    "        area = sqrt(s(s-a)(s-b)(s-c)) \n",
    "        where s is the semi perimeter\"\"\"\n",
    "    s = (a+b+c)/2\n",
    "    area = ((s*(s-a)*(s-b)*(s-c))**(0.5))\n",
    "    return area\n",
    "\n",
    "print(f'The area of the triangle is approximately {calcArea(sideA,sideB,sideC):.6f} cubic units.')\n",
    "print(f'The perimeter of the triangle is {calcPerimeter(sideA,sideB,sideC)} linear units.')"
   ]
  },
  {
   "cell_type": "code",
   "execution_count": null,
   "metadata": {
    "scrolled": true
   },
   "outputs": [],
   "source": [
    "#Part 2.\n",
    "\n",
    "#get pseudo-randomly generated num\n",
    "import random\n",
    "rand_num = random.randrange(1,1001)\n",
    "\n",
    "def evaluateGuess(guess):\n",
    "    \"\"\"Tells the user if their number is above, below, or equal to the random number.\"\"\"\n",
    "    if guess > rand_num:\n",
    "        return \"Too high! Guess again\"\n",
    "    elif guess < rand_num:\n",
    "        return \"Too low! Guess again\"\n",
    "    elif guess == rand_num:\n",
    "        return \"Correct!\"\n",
    "\n",
    "\n",
    "num_guess = -1\n",
    "\n",
    "while num_guess != rand_num:\n",
    "    num_guess = int(input(\"Enter your guess: \"))\n",
    "    \n",
    "    print(evaluateGuess(num_guess))\n",
    "    \n"
   ]
  },
  {
   "cell_type": "code",
   "execution_count": null,
   "metadata": {},
   "outputs": [],
   "source": [
    "#Part 3.\n",
    "\n",
    "def meanTemp(*temps):\n",
    "    \"\"\"calculates the average temps, and returns the average and the days\n",
    "        in a tuple as (average,days)\"\"\"\n",
    "    average = sum(temps)/len(temps)\n",
    "    days = len(temps)\n",
    "    return (average,days)\n",
    "\n",
    "\n",
    "def showTemp(args):\n",
    "    \"\"\"Unpacks tuple from meanTemp into average and days\n",
    "        then prints them in a user friendly message\"\"\"\n",
    "    average, days = args\n",
    "    print(f'The mean temperature for the past {days} days is {average:.2f} degrees F.')\n",
    "\n",
    "\n",
    "#print meanTemp using showTemp to unpack average and days\n",
    "showTemp(meanTemp(70,80,90,100))\n"
   ]
  }
 ],
 "metadata": {
  "kernelspec": {
   "display_name": "Python 3",
   "language": "python",
   "name": "python3"
  },
  "language_info": {
   "codemirror_mode": {
    "name": "ipython",
    "version": 3
   },
   "file_extension": ".py",
   "mimetype": "text/x-python",
   "name": "python",
   "nbconvert_exporter": "python",
   "pygments_lexer": "ipython3",
   "version": "3.8.3"
  }
 },
 "nbformat": 4,
 "nbformat_minor": 4
}
